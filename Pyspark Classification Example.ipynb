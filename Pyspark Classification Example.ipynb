{
 "cells": [
  {
   "cell_type": "markdown",
   "source": [
    "# Example of a simple Machine Learning project with pyspark\n",
    " author: Francisco Mena\n",
    "\n",
    "This is a simple example of a classification problem using pyspark"
   ],
   "metadata": {
    "application/vnd.databricks.v1+cell": {
     "title": "",
     "showTitle": false,
     "inputWidgets": {},
     "nuid": "f8aa174a-5405-4494-9fcc-3ef0fa73d2ff"
    },
    "pycharm": {
     "name": "#%% md\n"
    }
   }
  },
  {
   "cell_type": "code",
   "source": [
    "from pyspark.sql import SparkSession\nspark = SparkSession.builder.appName(\"classify\").getOrCreate()"
   ],
   "metadata": {
    "application/vnd.databricks.v1+cell": {
     "title": "",
     "showTitle": false,
     "inputWidgets": {},
     "nuid": "54a25318-d560-4bdd-bb1f-8906a5338156"
    }
   },
   "outputs": [],
   "execution_count": 0
  },
  {
   "cell_type": "code",
   "source": [
    "df = spark.read.format(\"csv\").option(\"header\", \"true\").option(\"inferSchema\", \"true\").load(\"dbfs:/FileStore/tables/diabetes.csv\")"
   ],
   "metadata": {
    "application/vnd.databricks.v1+cell": {
     "title": "",
     "showTitle": false,
     "inputWidgets": {},
     "nuid": "172e4190-5636-44d4-85c6-6946b199d7be"
    }
   },
   "outputs": [],
   "execution_count": 0
  },
  {
   "cell_type": "code",
   "source": [
    "df.show(5)"
   ],
   "metadata": {
    "application/vnd.databricks.v1+cell": {
     "title": "",
     "showTitle": false,
     "inputWidgets": {},
     "nuid": "a0f76bb5-0b4e-4ec4-8d78-fbe41c24165a"
    }
   },
   "outputs": [
    {
     "output_type": "display_data",
     "metadata": {
      "application/vnd.databricks.v1+output": {
       "datasetInfos": [],
       "data": "+-----------+-------+-------------+-------------+-------+----+------------------------+---+-------+\n|Pregnancies|Glucose|BloodPressure|SkinThickness|Insulin| BMI|DiabetesPedigreeFunction|Age|Outcome|\n+-----------+-------+-------------+-------------+-------+----+------------------------+---+-------+\n|          6|    148|           72|           35|      0|33.6|                   0.627| 50|      1|\n|          1|     85|           66|           29|      0|26.6|                   0.351| 31|      0|\n|          8|    183|           64|            0|      0|23.3|                   0.672| 32|      1|\n|          1|     89|           66|           23|     94|28.1|                   0.167| 21|      0|\n|          0|    137|           40|           35|    168|43.1|                   2.288| 33|      1|\n+-----------+-------+-------------+-------------+-------+----+------------------------+---+-------+\nonly showing top 5 rows\n\n",
       "removedWidgets": [],
       "addedWidgets": {},
       "metadata": {},
       "type": "ansi",
       "arguments": {}
      }
     },
     "data": {
      "text/plain": [
       "+-----------+-------+-------------+-------------+-------+----+------------------------+---+-------+\n|Pregnancies|Glucose|BloodPressure|SkinThickness|Insulin| BMI|DiabetesPedigreeFunction|Age|Outcome|\n+-----------+-------+-------------+-------------+-------+----+------------------------+---+-------+\n|          6|    148|           72|           35|      0|33.6|                   0.627| 50|      1|\n|          1|     85|           66|           29|      0|26.6|                   0.351| 31|      0|\n|          8|    183|           64|            0|      0|23.3|                   0.672| 32|      1|\n|          1|     89|           66|           23|     94|28.1|                   0.167| 21|      0|\n|          0|    137|           40|           35|    168|43.1|                   2.288| 33|      1|\n+-----------+-------+-------------+-------------+-------+----+------------------------+---+-------+\nonly showing top 5 rows\n\n"
      ]
     },
     "transient": null
    }
   ],
   "execution_count": 0
  },
  {
   "cell_type": "code",
   "source": [
    "#All columns are numeric, no need for one-hot encoding\ndf.printSchema()"
   ],
   "metadata": {
    "application/vnd.databricks.v1+cell": {
     "title": "",
     "showTitle": false,
     "inputWidgets": {},
     "nuid": "783097e3-2446-4b27-a3b2-fe6e804ae35d"
    }
   },
   "outputs": [
    {
     "output_type": "display_data",
     "metadata": {
      "application/vnd.databricks.v1+output": {
       "datasetInfos": [],
       "data": "root\n |-- Pregnancies: integer (nullable = true)\n |-- Glucose: integer (nullable = true)\n |-- BloodPressure: integer (nullable = true)\n |-- SkinThickness: integer (nullable = true)\n |-- Insulin: integer (nullable = true)\n |-- BMI: double (nullable = true)\n |-- DiabetesPedigreeFunction: double (nullable = true)\n |-- Age: integer (nullable = true)\n |-- Outcome: integer (nullable = true)\n\n",
       "removedWidgets": [],
       "addedWidgets": {},
       "metadata": {},
       "type": "ansi",
       "arguments": {}
      }
     },
     "data": {
      "text/plain": [
       "root\n |-- Pregnancies: integer (nullable = true)\n |-- Glucose: integer (nullable = true)\n |-- BloodPressure: integer (nullable = true)\n |-- SkinThickness: integer (nullable = true)\n |-- Insulin: integer (nullable = true)\n |-- BMI: double (nullable = true)\n |-- DiabetesPedigreeFunction: double (nullable = true)\n |-- Age: integer (nullable = true)\n |-- Outcome: integer (nullable = true)\n\n"
      ]
     },
     "transient": null
    }
   ],
   "execution_count": 0
  },
  {
   "cell_type": "code",
   "source": [
    "#Some imbalance present \ndf.groupby(\"Outcome\").count().show()"
   ],
   "metadata": {
    "application/vnd.databricks.v1+cell": {
     "title": "",
     "showTitle": false,
     "inputWidgets": {},
     "nuid": "3bdbc5db-3b92-47cc-b3c0-5263e50366b5"
    }
   },
   "outputs": [
    {
     "output_type": "display_data",
     "metadata": {
      "application/vnd.databricks.v1+output": {
       "datasetInfos": [],
       "data": "+-------+-----+\n|Outcome|count|\n+-------+-----+\n|      1|  268|\n|      0|  500|\n+-------+-----+\n\n",
       "removedWidgets": [],
       "addedWidgets": {},
       "metadata": {},
       "type": "ansi",
       "arguments": {}
      }
     },
     "data": {
      "text/plain": [
       "+-------+-----+\n|Outcome|count|\n+-------+-----+\n|      1|  268|\n|      0|  500|\n+-------+-----+\n\n"
      ]
     },
     "transient": null
    }
   ],
   "execution_count": 0
  },
  {
   "cell_type": "code",
   "source": [
    "#Let's take a look at the statistics of each feature\nfor col in df.columns:\n    print(col)\n    df.select(col).describe().show()"
   ],
   "metadata": {
    "application/vnd.databricks.v1+cell": {
     "title": "",
     "showTitle": false,
     "inputWidgets": {},
     "nuid": "911575d9-63e1-4c0a-a11c-ddcec1eb721a"
    }
   },
   "outputs": [
    {
     "output_type": "display_data",
     "metadata": {
      "application/vnd.databricks.v1+output": {
       "datasetInfos": [],
       "data": "Pregnancies\n+-------+------------------+\n|summary|       Pregnancies|\n+-------+------------------+\n|  count|               768|\n|   mean|3.8450520833333335|\n| stddev|  3.36957806269887|\n|    min|                 0|\n|    max|                17|\n+-------+------------------+\n\nGlucose\n+-------+-----------------+\n|summary|          Glucose|\n+-------+-----------------+\n|  count|              768|\n|   mean|     120.89453125|\n| stddev|31.97261819513622|\n|    min|                0|\n|    max|              199|\n+-------+-----------------+\n\nBloodPressure\n+-------+------------------+\n|summary|     BloodPressure|\n+-------+------------------+\n|  count|               768|\n|   mean|       69.10546875|\n| stddev|19.355807170644777|\n|    min|                 0|\n|    max|               122|\n+-------+------------------+\n\nSkinThickness\n+-------+------------------+\n|summary|     SkinThickness|\n+-------+------------------+\n|  count|               768|\n|   mean|20.536458333333332|\n| stddev|15.952217567727642|\n|    min|                 0|\n|    max|                99|\n+-------+------------------+\n\nInsulin\n+-------+------------------+\n|summary|           Insulin|\n+-------+------------------+\n|  count|               768|\n|   mean| 79.79947916666667|\n| stddev|115.24400235133803|\n|    min|                 0|\n|    max|               846|\n+-------+------------------+\n\nBMI\n+-------+------------------+\n|summary|               BMI|\n+-------+------------------+\n|  count|               768|\n|   mean|31.992578124999977|\n| stddev| 7.884160320375441|\n|    min|               0.0|\n|    max|              67.1|\n+-------+------------------+\n\nDiabetesPedigreeFunction\n+-------+------------------------+\n|summary|DiabetesPedigreeFunction|\n+-------+------------------------+\n|  count|                     768|\n|   mean|      0.4718763020833327|\n| stddev|       0.331328595012775|\n|    min|                   0.078|\n|    max|                    2.42|\n+-------+------------------------+\n\nAge\n+-------+------------------+\n|summary|               Age|\n+-------+------------------+\n|  count|               768|\n|   mean|33.240885416666664|\n| stddev|11.760231540678689|\n|    min|                21|\n|    max|                81|\n+-------+------------------+\n\nOutcome\n+-------+------------------+\n|summary|           Outcome|\n+-------+------------------+\n|  count|               768|\n|   mean|0.3489583333333333|\n| stddev| 0.476951377242799|\n|    min|                 0|\n|    max|                 1|\n+-------+------------------+\n\n",
       "removedWidgets": [],
       "addedWidgets": {},
       "metadata": {},
       "type": "ansi",
       "arguments": {}
      }
     },
     "data": {
      "text/plain": [
       "Pregnancies\n+-------+------------------+\n|summary|       Pregnancies|\n+-------+------------------+\n|  count|               768|\n|   mean|3.8450520833333335|\n| stddev|  3.36957806269887|\n|    min|                 0|\n|    max|                17|\n+-------+------------------+\n\nGlucose\n+-------+-----------------+\n|summary|          Glucose|\n+-------+-----------------+\n|  count|              768|\n|   mean|     120.89453125|\n| stddev|31.97261819513622|\n|    min|                0|\n|    max|              199|\n+-------+-----------------+\n\nBloodPressure\n+-------+------------------+\n|summary|     BloodPressure|\n+-------+------------------+\n|  count|               768|\n|   mean|       69.10546875|\n| stddev|19.355807170644777|\n|    min|                 0|\n|    max|               122|\n+-------+------------------+\n\nSkinThickness\n+-------+------------------+\n|summary|     SkinThickness|\n+-------+------------------+\n|  count|               768|\n|   mean|20.536458333333332|\n| stddev|15.952217567727642|\n|    min|                 0|\n|    max|                99|\n+-------+------------------+\n\nInsulin\n+-------+------------------+\n|summary|           Insulin|\n+-------+------------------+\n|  count|               768|\n|   mean| 79.79947916666667|\n| stddev|115.24400235133803|\n|    min|                 0|\n|    max|               846|\n+-------+------------------+\n\nBMI\n+-------+------------------+\n|summary|               BMI|\n+-------+------------------+\n|  count|               768|\n|   mean|31.992578124999977|\n| stddev| 7.884160320375441|\n|    min|               0.0|\n|    max|              67.1|\n+-------+------------------+\n\nDiabetesPedigreeFunction\n+-------+------------------------+\n|summary|DiabetesPedigreeFunction|\n+-------+------------------------+\n|  count|                     768|\n|   mean|      0.4718763020833327|\n| stddev|       0.331328595012775|\n|    min|                   0.078|\n|    max|                    2.42|\n+-------+------------------------+\n\nAge\n+-------+------------------+\n|summary|               Age|\n+-------+------------------+\n|  count|               768|\n|   mean|33.240885416666664|\n| stddev|11.760231540678689|\n|    min|                21|\n|    max|                81|\n+-------+------------------+\n\nOutcome\n+-------+------------------+\n|summary|           Outcome|\n+-------+------------------+\n|  count|               768|\n|   mean|0.3489583333333333|\n| stddev| 0.476951377242799|\n|    min|                 0|\n|    max|                 1|\n+-------+------------------+\n\n"
      ]
     },
     "transient": null
    }
   ],
   "execution_count": 0
  },
  {
   "cell_type": "code",
   "source": [
    "#Count NaNs\n\nfrom pyspark.sql.functions import isnan, when, count, col \ndf.select([count(when(isnan(c), c)).alias(c) for c in df.columns]).show()\n"
   ],
   "metadata": {
    "application/vnd.databricks.v1+cell": {
     "title": "",
     "showTitle": false,
     "inputWidgets": {},
     "nuid": "718e2283-b08e-4e35-a90d-470cda7f4884"
    }
   },
   "outputs": [
    {
     "output_type": "display_data",
     "metadata": {
      "application/vnd.databricks.v1+output": {
       "datasetInfos": [],
       "data": "+-----------+-------+-------------+-------------+-------+---+------------------------+---+-------+\n|Pregnancies|Glucose|BloodPressure|SkinThickness|Insulin|BMI|DiabetesPedigreeFunction|Age|Outcome|\n+-----------+-------+-------------+-------------+-------+---+------------------------+---+-------+\n|          0|      0|            0|            0|      0|  0|                       0|  0|      0|\n+-----------+-------+-------------+-------------+-------+---+------------------------+---+-------+\n\n",
       "removedWidgets": [],
       "addedWidgets": {},
       "metadata": {},
       "type": "ansi",
       "arguments": {}
      }
     },
     "data": {
      "text/plain": [
       "+-----------+-------+-------------+-------------+-------+---+------------------------+---+-------+\n|Pregnancies|Glucose|BloodPressure|SkinThickness|Insulin|BMI|DiabetesPedigreeFunction|Age|Outcome|\n+-----------+-------+-------------+-------------+-------+---+------------------------+---+-------+\n|          0|      0|            0|            0|      0|  0|                       0|  0|      0|\n+-----------+-------+-------------+-------------+-------+---+------------------------+---+-------+\n\n"
      ]
     },
     "transient": null
    }
   ],
   "execution_count": 0
  },
  {
   "cell_type": "code",
   "source": [
    "df.columns"
   ],
   "metadata": {
    "application/vnd.databricks.v1+cell": {
     "title": "",
     "showTitle": false,
     "inputWidgets": {},
     "nuid": "632f3e6f-5c12-4184-b3f0-f24f39992f85"
    }
   },
   "outputs": [
    {
     "output_type": "display_data",
     "metadata": {
      "application/vnd.databricks.v1+output": {
       "datasetInfos": [],
       "data": "Out[28]: ['Pregnancies',\n 'Glucose',\n 'BloodPressure',\n 'SkinThickness',\n 'Insulin',\n 'BMI',\n 'DiabetesPedigreeFunction',\n 'Age',\n 'Outcome']",
       "removedWidgets": [],
       "addedWidgets": {},
       "metadata": {},
       "type": "ansi",
       "arguments": {}
      }
     },
     "data": {
      "text/plain": [
       "Out[28]: ['Pregnancies',\n 'Glucose',\n 'BloodPressure',\n 'SkinThickness',\n 'Insulin',\n 'BMI',\n 'DiabetesPedigreeFunction',\n 'Age',\n 'Outcome']"
      ]
     },
     "transient": null
    }
   ],
   "execution_count": 0
  },
  {
   "cell_type": "code",
   "source": [
    "from pyspark.ml.feature import VectorAssembler\nassembler = VectorAssembler(\n    inputCols=['Pregnancies','Glucose','BloodPressure','SkinThickness',\n 'Insulin', 'BMI', 'DiabetesPedigreeFunction', 'Age'],\n    outputCol=\"features\")\n"
   ],
   "metadata": {
    "application/vnd.databricks.v1+cell": {
     "title": "",
     "showTitle": false,
     "inputWidgets": {},
     "nuid": "b47bf67d-8b45-4304-abe7-71d77bad94b7"
    }
   },
   "outputs": [],
   "execution_count": 0
  },
  {
   "cell_type": "code",
   "source": [
    "new_df = assembler.transform(df)\nnew_df.show(5)"
   ],
   "metadata": {
    "application/vnd.databricks.v1+cell": {
     "title": "",
     "showTitle": false,
     "inputWidgets": {},
     "nuid": "8ca34f24-4ab5-4d75-908b-274e34da72ad"
    }
   },
   "outputs": [
    {
     "output_type": "display_data",
     "metadata": {
      "application/vnd.databricks.v1+output": {
       "datasetInfos": [],
       "data": "+-----------+-------+-------------+-------------+-------+----+------------------------+---+-------+--------------------+\n|Pregnancies|Glucose|BloodPressure|SkinThickness|Insulin| BMI|DiabetesPedigreeFunction|Age|Outcome|            features|\n+-----------+-------+-------------+-------------+-------+----+------------------------+---+-------+--------------------+\n|          6|    148|           72|           35|      0|33.6|                   0.627| 50|      1|[6.0,148.0,72.0,3...|\n|          1|     85|           66|           29|      0|26.6|                   0.351| 31|      0|[1.0,85.0,66.0,29...|\n|          8|    183|           64|            0|      0|23.3|                   0.672| 32|      1|[8.0,183.0,64.0,0...|\n|          1|     89|           66|           23|     94|28.1|                   0.167| 21|      0|[1.0,89.0,66.0,23...|\n|          0|    137|           40|           35|    168|43.1|                   2.288| 33|      1|[0.0,137.0,40.0,3...|\n+-----------+-------+-------------+-------------+-------+----+------------------------+---+-------+--------------------+\nonly showing top 5 rows\n\n",
       "removedWidgets": [],
       "addedWidgets": {},
       "metadata": {},
       "type": "ansi",
       "arguments": {}
      }
     },
     "data": {
      "text/plain": [
       "+-----------+-------+-------------+-------------+-------+----+------------------------+---+-------+--------------------+\n|Pregnancies|Glucose|BloodPressure|SkinThickness|Insulin| BMI|DiabetesPedigreeFunction|Age|Outcome|            features|\n+-----------+-------+-------------+-------------+-------+----+------------------------+---+-------+--------------------+\n|          6|    148|           72|           35|      0|33.6|                   0.627| 50|      1|[6.0,148.0,72.0,3...|\n|          1|     85|           66|           29|      0|26.6|                   0.351| 31|      0|[1.0,85.0,66.0,29...|\n|          8|    183|           64|            0|      0|23.3|                   0.672| 32|      1|[8.0,183.0,64.0,0...|\n|          1|     89|           66|           23|     94|28.1|                   0.167| 21|      0|[1.0,89.0,66.0,23...|\n|          0|    137|           40|           35|    168|43.1|                   2.288| 33|      1|[0.0,137.0,40.0,3...|\n+-----------+-------+-------------+-------------+-------+----+------------------------+---+-------+--------------------+\nonly showing top 5 rows\n\n"
      ]
     },
     "transient": null
    }
   ],
   "execution_count": 0
  },
  {
   "cell_type": "code",
   "source": [
    "df2 = new_df.select(\"features\", \"Outcome\")\ndf2.show(5)"
   ],
   "metadata": {
    "application/vnd.databricks.v1+cell": {
     "title": "",
     "showTitle": false,
     "inputWidgets": {},
     "nuid": "2c8af2c3-6eab-4a06-8a7a-b5bfdbbe202a"
    }
   },
   "outputs": [
    {
     "output_type": "display_data",
     "metadata": {
      "application/vnd.databricks.v1+output": {
       "datasetInfos": [],
       "data": "+--------------------+-------+\n|            features|Outcome|\n+--------------------+-------+\n|[6.0,148.0,72.0,3...|      1|\n|[1.0,85.0,66.0,29...|      0|\n|[8.0,183.0,64.0,0...|      1|\n|[1.0,89.0,66.0,23...|      0|\n|[0.0,137.0,40.0,3...|      1|\n+--------------------+-------+\nonly showing top 5 rows\n\n",
       "removedWidgets": [],
       "addedWidgets": {},
       "metadata": {},
       "type": "ansi",
       "arguments": {}
      }
     },
     "data": {
      "text/plain": [
       "+--------------------+-------+\n|            features|Outcome|\n+--------------------+-------+\n|[6.0,148.0,72.0,3...|      1|\n|[1.0,85.0,66.0,29...|      0|\n|[8.0,183.0,64.0,0...|      1|\n|[1.0,89.0,66.0,23...|      0|\n|[0.0,137.0,40.0,3...|      1|\n+--------------------+-------+\nonly showing top 5 rows\n\n"
      ]
     },
     "transient": null
    }
   ],
   "execution_count": 0
  },
  {
   "cell_type": "code",
   "source": [
    "#Split and normalize\ntrain_data,test_data = df2.randomSplit([0.7,0.3])"
   ],
   "metadata": {
    "application/vnd.databricks.v1+cell": {
     "title": "",
     "showTitle": false,
     "inputWidgets": {},
     "nuid": "26e4818f-3ccd-4229-a28d-28114b336c63"
    }
   },
   "outputs": [],
   "execution_count": 0
  },
  {
   "cell_type": "code",
   "source": [
    "from pyspark.ml.feature import StandardScaler\n\nscaler = StandardScaler(inputCol=\"features\", outputCol=\"scaledFeatures\", withStd=True, withMean=False)\nscalerModel = scaler.fit(train_data)\ntrain_scaled = scalerModel.transform(train_data)\ntest_scaled = scalerModel.transform(test_data)\n"
   ],
   "metadata": {
    "application/vnd.databricks.v1+cell": {
     "title": "",
     "showTitle": false,
     "inputWidgets": {},
     "nuid": "694e46db-f1d7-4c7d-bc97-1e8697d613b1"
    }
   },
   "outputs": [],
   "execution_count": 0
  },
  {
   "cell_type": "code",
   "source": [
    "train_scaled.show(3)\ntest_scaled.show(3)"
   ],
   "metadata": {
    "application/vnd.databricks.v1+cell": {
     "title": "",
     "showTitle": false,
     "inputWidgets": {},
     "nuid": "eb62d029-ff7a-4a45-8715-229bdc3a8179"
    }
   },
   "outputs": [
    {
     "output_type": "display_data",
     "metadata": {
      "application/vnd.databricks.v1+output": {
       "datasetInfos": [],
       "data": "+--------------------+-------+--------------------+\n|            features|Outcome|      scaledFeatures|\n+--------------------+-------+--------------------+\n|(8,[0,1,6,7],[2.0...|      0|(8,[0,1,6,7],[0.5...|\n|(8,[0,1,6,7],[2.0...|      0|(8,[0,1,6,7],[0.5...|\n|(8,[0,1,6,7],[6.0...|      0|(8,[0,1,6,7],[1.7...|\n+--------------------+-------+--------------------+\nonly showing top 3 rows\n\n+--------------------+-------+--------------------+\n|            features|Outcome|      scaledFeatures|\n+--------------------+-------+--------------------+\n|(8,[0,1,6,7],[3.0...|      0|(8,[0,1,6,7],[0.8...|\n|(8,[0,1,6,7],[10....|      1|(8,[0,1,6,7],[2.9...|\n|(8,[1,5,6,7],[73....|      0|(8,[1,5,6,7],[2.3...|\n+--------------------+-------+--------------------+\nonly showing top 3 rows\n\n",
       "removedWidgets": [],
       "addedWidgets": {},
       "metadata": {},
       "type": "ansi",
       "arguments": {}
      }
     },
     "data": {
      "text/plain": [
       "+--------------------+-------+--------------------+\n|            features|Outcome|      scaledFeatures|\n+--------------------+-------+--------------------+\n|(8,[0,1,6,7],[2.0...|      0|(8,[0,1,6,7],[0.5...|\n|(8,[0,1,6,7],[2.0...|      0|(8,[0,1,6,7],[0.5...|\n|(8,[0,1,6,7],[6.0...|      0|(8,[0,1,6,7],[1.7...|\n+--------------------+-------+--------------------+\nonly showing top 3 rows\n\n+--------------------+-------+--------------------+\n|            features|Outcome|      scaledFeatures|\n+--------------------+-------+--------------------+\n|(8,[0,1,6,7],[3.0...|      0|(8,[0,1,6,7],[0.8...|\n|(8,[0,1,6,7],[10....|      1|(8,[0,1,6,7],[2.9...|\n|(8,[1,5,6,7],[73....|      0|(8,[1,5,6,7],[2.3...|\n+--------------------+-------+--------------------+\nonly showing top 3 rows\n\n"
      ]
     },
     "transient": null
    }
   ],
   "execution_count": 0
  },
  {
   "cell_type": "code",
   "source": [
    "from pyspark.ml.classification import LogisticRegression, RandomForestClassifier, LinearSVC, GBTClassifier\nfrom pyspark.ml.evaluation import MulticlassClassificationEvaluator\n\nlista_modelos = [(\"logres\", LogisticRegression(featuresCol=\"scaledFeatures\", labelCol=\"Outcome\") ), \n                 (\"randomForest\", RandomForestClassifier(featuresCol=\"scaledFeatures\", labelCol=\"Outcome\") ),\n                 (\"SVC\", LinearSVC(featuresCol=\"scaledFeatures\", labelCol=\"Outcome\")),\n                 (\"GradientBoost\", GBTClassifier(featuresCol=\"scaledFeatures\", labelCol=\"Outcome\"))\n                ]\n                  "
   ],
   "metadata": {
    "application/vnd.databricks.v1+cell": {
     "title": "",
     "showTitle": false,
     "inputWidgets": {},
     "nuid": "586da356-b415-4d73-b635-b3a0d9c51059"
    }
   },
   "outputs": [],
   "execution_count": 0
  },
  {
   "cell_type": "code",
   "source": [
    "for name, model in lista_modelos:\n    \n    trainedModel = model.fit(train_scaled)\n    \n    predictions = trainedModel.transform(test_scaled)\n    \n    multi_evaluator = MulticlassClassificationEvaluator(labelCol = 'Outcome', metricName = 'accuracy')\n    print(name, multi_evaluator.evaluate(predictions))\n    print(\"\\n\")"
   ],
   "metadata": {
    "application/vnd.databricks.v1+cell": {
     "title": "",
     "showTitle": false,
     "inputWidgets": {},
     "nuid": "e7005fb7-e912-4ee5-875b-ef8c66779f64"
    }
   },
   "outputs": [
    {
     "output_type": "display_data",
     "metadata": {
      "application/vnd.databricks.v1+output": {
       "datasetInfos": [],
       "data": "logres 0.7805907172995781\n\n\nrandomForest 0.7721518987341772\n\n\nSVC 0.7805907172995781\n\n\nGradientBoost 0.7257383966244726\n\n\n",
       "removedWidgets": [],
       "addedWidgets": {},
       "metadata": {},
       "type": "ansi",
       "arguments": {}
      }
     },
     "data": {
      "text/plain": [
       "logres 0.7805907172995781\n\n\nrandomForest 0.7721518987341772\n\n\nSVC 0.7805907172995781\n\n\nGradientBoost 0.7257383966244726\n\n\n"
      ]
     },
     "transient": null
    }
   ],
   "execution_count": 0
  },
  {
   "cell_type": "code",
   "source": [
    "#Interesting! LinearSVC/Logistic Regression have the best performance"
   ],
   "metadata": {
    "application/vnd.databricks.v1+cell": {
     "title": "",
     "showTitle": false,
     "inputWidgets": {},
     "nuid": "c6fb50b4-8e63-43b4-95c4-675631469500"
    }
   },
   "outputs": [
    {
     "output_type": "display_data",
     "metadata": {
      "application/vnd.databricks.v1+output": {
       "data": "",
       "errorSummary": "",
       "metadata": {},
       "errorTraceType": null,
       "type": "ipynbError",
       "arguments": {}
      }
     },
     "data": {
      "text/html": [
       "<style scoped>\n  .ansiout {\n    display: block;\n    unicode-bidi: embed;\n    white-space: pre-wrap;\n    word-wrap: break-word;\n    word-break: break-all;\n    font-family: \"Source Code Pro\", \"Menlo\", monospace;;\n    font-size: 13px;\n    color: #555;\n    margin-left: 4px;\n    line-height: 19px;\n  }\n</style>"
      ]
     },
     "transient": null
    }
   ],
   "execution_count": 0
  }
 ],
 "metadata": {
  "application/vnd.databricks.v1+notebook": {
   "notebookName": "Pyspark Classification Example",
   "dashboards": [],
   "notebookMetadata": {
    "pythonIndentUnit": 4
   },
   "language": "python",
   "widgets": {},
   "notebookOrigID": 455774095900330
  }
 },
 "nbformat": 4,
 "nbformat_minor": 0
}